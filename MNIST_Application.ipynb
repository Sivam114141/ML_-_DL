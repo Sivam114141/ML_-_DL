{
 "cells": [
  {
   "cell_type": "code",
   "execution_count": 5,
   "id": "3a63db11-38b8-41c2-badd-98afd605f715",
   "metadata": {},
   "outputs": [
    {
     "name": "stdout",
     "output_type": "stream",
     "text": [
      "C:\\Users\\sivam\\anaconda3\\python.exe\n"
     ]
    }
   ],
   "source": [
    "import sys\n",
    "print(sys.executable)"
   ]
  },
  {
   "cell_type": "code",
   "execution_count": 5,
   "id": "19daa3f2-69fa-4ce8-b059-3c3fdc6b3827",
   "metadata": {},
   "outputs": [
    {
     "name": "stdout",
     "output_type": "stream",
     "text": [
      "Retrieving notices: ...working... done\n",
      "Channels:\n",
      " - conda-forge\n",
      " - defaults\n",
      "Platform: win-64\n",
      "Collecting package metadata (repodata.json): ...working... done\n",
      "Solving environment: ...working... done\n",
      "\n",
      "## Package Plan ##\n",
      "\n",
      "  environment location: C:\\Users\\sivam\\anaconda3\n",
      "\n",
      "  added / updated specs:\n",
      "    - opencv\n",
      "\n",
      "\n",
      "The following packages will be downloaded:\n",
      "\n",
      "    package                    |            build\n",
      "    ---------------------------|-----------------\n",
      "    ca-certificates-2025.1.31  |       h56e8100_0         155 KB  conda-forge\n",
      "    cairo-1.16.0               |       hc68a040_5         2.3 MB\n",
      "    certifi-2025.1.31          |     pyhd8ed1ab_0         159 KB  conda-forge\n",
      "    conda-25.3.1               |  py312h2e8e312_0         1.1 MB  conda-forge\n",
      "    eigen-3.4.0                |       h91493d7_0         1.0 MB  conda-forge\n",
      "    fontconfig-2.14.1          |       hb33846d_3         224 KB\n",
      "    glib-2.78.4                |       hd77b12b_0         491 KB\n",
      "    glib-tools-2.78.4          |       hd77b12b_0          91 KB\n",
      "    graphite2-1.3.14           |       hd77b12b_1          91 KB\n",
      "    gst-plugins-base-1.22.3    |       hfc3ed34_1         2.0 MB\n",
      "    gstreamer-1.22.3           |       h1779075_1         1.7 MB\n",
      "    h5py-3.12.1                |  py312h535c9fb_1         1.2 MB\n",
      "    harfbuzz-10.2.0            |       hf458a27_0         1.2 MB\n",
      "    hdf5-1.14.5                |       ha36df97_2         2.1 MB\n",
      "    libexpat-2.6.3             |       he0c23c2_0         136 KB  conda-forge\n",
      "    libglib-2.78.4             |       ha17d25a_0         1.3 MB\n",
      "    libogg-1.3.5               |       h2466b09_0          35 KB  conda-forge\n",
      "    libsqlite-3.49.1           |       h67fdade_2         1.0 MB  conda-forge\n",
      "    libvorbis-1.3.7            |       h0e60522_0         267 KB  conda-forge\n",
      "    libzlib-1.2.13             |       h2466b09_6          55 KB  conda-forge\n",
      "    opencv-4.10.0              |  py312hfc4d47f_2        35.6 MB\n",
      "    openssl-3.4.1              |       ha4e3fda_0         8.1 MB  conda-forge\n",
      "    pixman-0.44.2              |       had0cd8c_0         445 KB  conda-forge\n",
      "    pytables-3.10.2            |  py312he42c613_1         2.0 MB\n",
      "    python-3.12.3              |h2628c8c_0_cpython        15.4 MB  conda-forge\n",
      "    python_abi-3.12            |          6_cp312           7 KB  conda-forge\n",
      "    ucrt-10.0.22621.0          |       h57928b3_1         547 KB  conda-forge\n",
      "    vc14_runtime-14.42.34438   |      hfd919c2_26         733 KB  conda-forge\n",
      "    vs2015_runtime-14.42.34438 |      h7142326_26          17 KB  conda-forge\n",
      "    zlib-1.2.13                |       h2466b09_6         105 KB  conda-forge\n",
      "    ------------------------------------------------------------\n",
      "                                           Total:        79.6 MB\n",
      "\n",
      "The following NEW packages will be INSTALLED:\n",
      "\n",
      "  cairo              pkgs/main/win-64::cairo-1.16.0-hc68a040_5 \n",
      "  eigen              conda-forge/win-64::eigen-3.4.0-h91493d7_0 \n",
      "  fontconfig         pkgs/main/win-64::fontconfig-2.14.1-hb33846d_3 \n",
      "  glib               pkgs/main/win-64::glib-2.78.4-hd77b12b_0 \n",
      "  glib-tools         pkgs/main/win-64::glib-tools-2.78.4-hd77b12b_0 \n",
      "  graphite2          pkgs/main/win-64::graphite2-1.3.14-hd77b12b_1 \n",
      "  gst-plugins-base   pkgs/main/win-64::gst-plugins-base-1.22.3-hfc3ed34_1 \n",
      "  gstreamer          pkgs/main/win-64::gstreamer-1.22.3-h1779075_1 \n",
      "  harfbuzz           pkgs/main/win-64::harfbuzz-10.2.0-hf458a27_0 \n",
      "  libexpat           conda-forge/win-64::libexpat-2.6.3-he0c23c2_0 \n",
      "  libglib            pkgs/main/win-64::libglib-2.78.4-ha17d25a_0 \n",
      "  libogg             conda-forge/win-64::libogg-1.3.5-h2466b09_0 \n",
      "  libsqlite          conda-forge/win-64::libsqlite-3.49.1-h67fdade_2 \n",
      "  libvorbis          conda-forge/win-64::libvorbis-1.3.7-h0e60522_0 \n",
      "  libzlib            conda-forge/win-64::libzlib-1.2.13-h2466b09_6 \n",
      "  opencv             pkgs/main/win-64::opencv-4.10.0-py312hfc4d47f_2 \n",
      "  pixman             conda-forge/win-64::pixman-0.44.2-had0cd8c_0 \n",
      "  python_abi         conda-forge/win-64::python_abi-3.12-6_cp312 \n",
      "  ucrt               conda-forge/win-64::ucrt-10.0.22621.0-h57928b3_1 \n",
      "  vc14_runtime       conda-forge/win-64::vc14_runtime-14.42.34438-hfd919c2_26 \n",
      "\n",
      "The following packages will be UPDATED:\n",
      "\n",
      "  ca-certificates    pkgs/main::ca-certificates-2024.9.24-~ --> conda-forge::ca-certificates-2025.1.31-h56e8100_0 \n",
      "  certifi            pkgs/main/win-64::certifi-2024.8.30-p~ --> conda-forge/noarch::certifi-2025.1.31-pyhd8ed1ab_0 \n",
      "  conda              pkgs/main::conda-24.9.2-py312haa95532~ --> conda-forge::conda-25.3.1-py312h2e8e312_0 \n",
      "  h5py                               3.11.0-py312h59a1360_0 --> 3.12.1-py312h535c9fb_1 \n",
      "  hdf5                                    1.12.1-h51c971a_3 --> 1.14.5-ha36df97_2 \n",
      "  openssl              pkgs/main::openssl-3.0.15-h827c3e9_0 --> conda-forge::openssl-3.4.1-ha4e3fda_0 \n",
      "  pytables                           3.10.1-py312ha32dda5_0 --> 3.10.2-py312he42c613_1 \n",
      "  vs2015_runtime     pkgs/main::vs2015_runtime-14.40.33807~ --> conda-forge::vs2015_runtime-14.42.34438-h7142326_26 \n",
      "  zlib                    pkgs/main::zlib-1.2.13-h8cc25b3_1 --> conda-forge::zlib-1.2.13-h2466b09_6 \n",
      "\n",
      "The following packages will be SUPERSEDED by a higher-priority channel:\n",
      "\n",
      "  python                pkgs/main::python-3.12.7-h14ffc60_0 --> conda-forge::python-3.12.3-h2628c8c_0_cpython \n",
      "\n",
      "\n",
      "\n",
      "Downloading and Extracting Packages: ...working... done\n",
      "Preparing transaction: ...working... done\n",
      "Verifying transaction: ...working... done\n",
      "Executing transaction: ...working... done\n"
     ]
    }
   ],
   "source": [
    "//!conda install -c conda-forge opencv -y"
   ]
  },
  {
   "cell_type": "code",
   "execution_count": 25,
   "id": "654f65bf-2fe5-4528-8165-1d99740483d9",
   "metadata": {},
   "outputs": [],
   "source": [
    "import cv2\n",
    "import tensorflow as tf\n",
    "from tensorflow import keras\n",
    "import numpy as np\n",
    "import pandas as pd\n",
    "import matplotlib.pyplot as plt\n",
    "import streamlit as st\n",
    "from PIL import Image"
   ]
  },
  {
   "cell_type": "code",
   "execution_count": 7,
   "id": "847722d1-b113-4a13-a21b-127d11bcd168",
   "metadata": {},
   "outputs": [],
   "source": [
    "\n",
    "from tensorflow.keras.datasets import mnist"
   ]
  },
  {
   "cell_type": "code",
   "execution_count": 8,
   "id": "97974e79-7b90-468a-8108-d561cf2ddd0a",
   "metadata": {},
   "outputs": [
    {
     "data": {
      "text/plain": [
       "(60000, 28, 28)"
      ]
     },
     "execution_count": 8,
     "metadata": {},
     "output_type": "execute_result"
    }
   ],
   "source": [
    "\n",
    "(X_train,Y_train),(X_test,Y_test) = mnist.load_data()\n",
    "X_train.shape"
   ]
  },
  {
   "cell_type": "code",
   "execution_count": 9,
   "id": "bbdf73d9-040e-4eda-b557-5ef499e3fcd6",
   "metadata": {},
   "outputs": [
    {
     "name": "stdout",
     "output_type": "stream",
     "text": [
      "60000 10000\n"
     ]
    }
   ],
   "source": [
    "\n",
    "print(len(X_train),len(X_test))"
   ]
  },
  {
   "cell_type": "code",
   "execution_count": 10,
   "id": "12d4520c-cc77-43ad-b921-0a94d9c4cc11",
   "metadata": {},
   "outputs": [],
   "source": [
    "\n",
    "X_train = X_train/255\n",
    "X_test = X_test/255"
   ]
  },
  {
   "cell_type": "code",
   "execution_count": 11,
   "id": "3241a1f3-460e-4492-9afc-f112cad23fdc",
   "metadata": {},
   "outputs": [],
   "source": [
    "\n",
    "X_train_flattend = X_train.reshape(len(X_train),28*28)\n",
    "X_test_flattend = X_test.reshape(len(X_test),28*28)"
   ]
  },
  {
   "cell_type": "code",
   "execution_count": 12,
   "id": "5670a6ba-5a7c-4a05-8652-12b90d2e99a5",
   "metadata": {},
   "outputs": [
    {
     "name": "stdout",
     "output_type": "stream",
     "text": [
      "(60000, 784) (10000, 784)\n"
     ]
    }
   ],
   "source": [
    "\n",
    "print(X_train_flattend.shape,X_test_flattend.shape)"
   ]
  },
  {
   "cell_type": "code",
   "execution_count": 13,
   "id": "64c9f5f6-0ee0-4986-b5ea-e0540577016c",
   "metadata": {},
   "outputs": [
    {
     "name": "stderr",
     "output_type": "stream",
     "text": [
      "C:\\Users\\sivam\\anaconda3\\Lib\\site-packages\\keras\\src\\layers\\core\\dense.py:87: UserWarning: Do not pass an `input_shape`/`input_dim` argument to a layer. When using Sequential models, prefer using an `Input(shape)` object as the first layer in the model instead.\n",
      "  super().__init__(activity_regularizer=activity_regularizer, **kwargs)\n"
     ]
    },
    {
     "name": "stdout",
     "output_type": "stream",
     "text": [
      "Epoch 1/10\n",
      "\u001b[1m1875/1875\u001b[0m \u001b[32m━━━━━━━━━━━━━━━━━━━━\u001b[0m\u001b[37m\u001b[0m \u001b[1m8s\u001b[0m 3ms/step - accuracy: 0.8304 - loss: 0.6698\n",
      "Epoch 2/10\n",
      "\u001b[1m1875/1875\u001b[0m \u001b[32m━━━━━━━━━━━━━━━━━━━━\u001b[0m\u001b[37m\u001b[0m \u001b[1m6s\u001b[0m 3ms/step - accuracy: 0.9383 - loss: 0.2125\n",
      "Epoch 3/10\n",
      "\u001b[1m1875/1875\u001b[0m \u001b[32m━━━━━━━━━━━━━━━━━━━━\u001b[0m\u001b[37m\u001b[0m \u001b[1m6s\u001b[0m 3ms/step - accuracy: 0.9569 - loss: 0.1519\n",
      "Epoch 4/10\n",
      "\u001b[1m1875/1875\u001b[0m \u001b[32m━━━━━━━━━━━━━━━━━━━━\u001b[0m\u001b[37m\u001b[0m \u001b[1m6s\u001b[0m 3ms/step - accuracy: 0.9686 - loss: 0.1098\n",
      "Epoch 5/10\n",
      "\u001b[1m1875/1875\u001b[0m \u001b[32m━━━━━━━━━━━━━━━━━━━━\u001b[0m\u001b[37m\u001b[0m \u001b[1m6s\u001b[0m 3ms/step - accuracy: 0.9747 - loss: 0.0887\n",
      "Epoch 6/10\n",
      "\u001b[1m1875/1875\u001b[0m \u001b[32m━━━━━━━━━━━━━━━━━━━━\u001b[0m\u001b[37m\u001b[0m \u001b[1m6s\u001b[0m 3ms/step - accuracy: 0.9789 - loss: 0.0746\n",
      "Epoch 7/10\n",
      "\u001b[1m1875/1875\u001b[0m \u001b[32m━━━━━━━━━━━━━━━━━━━━\u001b[0m\u001b[37m\u001b[0m \u001b[1m6s\u001b[0m 3ms/step - accuracy: 0.9826 - loss: 0.0618\n",
      "Epoch 8/10\n",
      "\u001b[1m1875/1875\u001b[0m \u001b[32m━━━━━━━━━━━━━━━━━━━━\u001b[0m\u001b[37m\u001b[0m \u001b[1m6s\u001b[0m 3ms/step - accuracy: 0.9853 - loss: 0.0518\n",
      "Epoch 9/10\n",
      "\u001b[1m1875/1875\u001b[0m \u001b[32m━━━━━━━━━━━━━━━━━━━━\u001b[0m\u001b[37m\u001b[0m \u001b[1m5s\u001b[0m 3ms/step - accuracy: 0.9897 - loss: 0.0397\n",
      "Epoch 10/10\n",
      "\u001b[1m1875/1875\u001b[0m \u001b[32m━━━━━━━━━━━━━━━━━━━━\u001b[0m\u001b[37m\u001b[0m \u001b[1m6s\u001b[0m 3ms/step - accuracy: 0.9914 - loss: 0.0348\n"
     ]
    },
    {
     "data": {
      "text/plain": [
       "<keras.src.callbacks.history.History at 0x14a38739dc0>"
      ]
     },
     "execution_count": 13,
     "metadata": {},
     "output_type": "execute_result"
    }
   ],
   "source": [
    "\n",
    "model = keras.Sequential([\n",
    "    keras.layers.Dense(128,input_shape=(784,),activation='sigmoid'),\n",
    "    keras.layers.Dense(10,activation='softmax')\n",
    "])\n",
    "\n",
    "model.compile(\n",
    "    optimizer = 'adam',\n",
    "    loss = 'sparse_categorical_crossentropy',\n",
    "    metrics = ['accuracy']\n",
    ")\n",
    "model.fit(X_train_flattend,Y_train,epochs=10)"
   ]
  },
  {
   "cell_type": "code",
   "execution_count": 16,
   "id": "28b1abfe-920b-415b-975a-aa3c81ee01df",
   "metadata": {},
   "outputs": [
    {
     "name": "stdout",
     "output_type": "stream",
     "text": [
      "\u001b[1m313/313\u001b[0m \u001b[32m━━━━━━━━━━━━━━━━━━━━\u001b[0m\u001b[37m\u001b[0m \u001b[1m1s\u001b[0m 3ms/step - accuracy: 0.9735 - loss: 0.0857\n"
     ]
    },
    {
     "data": {
      "text/plain": [
       "[0.07563810795545578, 0.9769999980926514]"
      ]
     },
     "execution_count": 16,
     "metadata": {},
     "output_type": "execute_result"
    }
   ],
   "source": [
    "model.evaluate(X_test_flattend,Y_test)"
   ]
  },
  {
   "cell_type": "code",
   "execution_count": 17,
   "id": "061526af-1ed4-4b41-b442-ee668a7c6041",
   "metadata": {},
   "outputs": [
    {
     "data": {
      "text/plain": [
       "<matplotlib.image.AxesImage at 0x14a3b745fd0>"
      ]
     },
     "execution_count": 17,
     "metadata": {},
     "output_type": "execute_result"
    },
    {
     "data": {
      "image/png": "[encoded data removed]",
      "text/plain": [
       "<Figure size 640x480 with 1 Axes>"
      ]
     },
     "metadata": {},
     "output_type": "display_data"
    }
   ],
   "source": [
    "plt.imshow(X_test[0])"
   ]
  },
  {
   "cell_type": "code",
   "execution_count": 18,
   "id": "528c1a78-3398-4a2c-b56b-25d64902d39e",
   "metadata": {},
   "outputs": [
    {
     "name": "stdout",
     "output_type": "stream",
     "text": [
      "\u001b[1m313/313\u001b[0m \u001b[32m━━━━━━━━━━━━━━━━━━━━\u001b[0m\u001b[37m\u001b[0m \u001b[1m1s\u001b[0m 2ms/step\n"
     ]
    },
    {
     "data": {
      "text/plain": [
       "array([1.3511158e-05, 1.0800291e-03, 9.9863189e-01, 5.5666784e-05,\n",
       "       1.6018754e-07, 3.1842726e-05, 1.5342004e-04, 7.1017836e-09,\n",
       "       3.3333450e-05, 1.8994333e-09], dtype=float32)"
      ]
     },
     "execution_count": 18,
     "metadata": {},
     "output_type": "execute_result"
    }
   ],
   "source": [
    "\n",
    "Y_pred = model.predict(X_test_flattend)\n",
    "Y_pred[1]"
   ]
  },
  {
   "cell_type": "code",
   "execution_count": 19,
   "id": "223d65bc-fc72-43f0-b557-7613d877c6e1",
   "metadata": {},
   "outputs": [
    {
     "data": {
      "text/plain": [
       "2"
      ]
     },
     "execution_count": 19,
     "metadata": {},
     "output_type": "execute_result"
    }
   ],
   "source": [
    "np.argmax(Y_pred[1])"
   ]
  },
  {
   "cell_type": "code",
   "execution_count": 21,
   "id": "cf42e5d3-1934-4b39-966b-67b6ffd6c343",
   "metadata": {},
   "outputs": [
    {
     "name": "stdin",
     "output_type": "stream",
     "text": [
      "Enter an index (0 to 9999):  7\n"
     ]
    },
    {
     "data": {
      "image/png": "[encoded data removed]",
      "text/plain": [
       "<Figure size 640x480 with 1 Axes>"
      ]
     },
     "metadata": {},
     "output_type": "display_data"
    }
   ],
   "source": [
    "n = int(input(\"Enter an index (0 to 9999): \"))\n",
    "plt.imshow(X_test[n], cmap='gray')\n",
    "plt.title(f\"Actual Label: {Y_test[n]}\")\n",
    "plt.axis('off')\n",
    "plt.show()"
   ]
  },
  {
   "cell_type": "code",
   "execution_count": 22,
   "id": "a9acbe80-7d98-4333-bb84-9264bb38d0a7",
   "metadata": {},
   "outputs": [
    {
     "name": "stdout",
     "output_type": "stream",
     "text": [
      "\u001b[1m1/1\u001b[0m \u001b[32m━━━━━━━━━━━━━━━━━━━━\u001b[0m\u001b[37m\u001b[0m \u001b[1m0s\u001b[0m 67ms/step\n",
      "Predicted Label: 9\n"
     ]
    }
   ],
   "source": [
    "input_image = X_test_flattend[n].reshape(1, 784)\n",
    "prediction = model.predict(input_image)\n",
    "predicted_label = np.argmax(prediction)\n",
    "\n",
    "print(f\"Predicted Label: {predicted_label}\")"
   ]
  },
  {
   "cell_type": "code",
   "execution_count": 28,
   "id": "3837ceb4-4d0f-40b6-8dbd-531d8fbeff98",
   "metadata": {},
   "outputs": [
    {
     "name": "stdin",
     "output_type": "stream",
     "text": [
      "Enter path to the digit image (e.g., 'digit.png'):  datasets//7_img(NN).png\n"
     ]
    },
    {
     "name": "stdout",
     "output_type": "stream",
     "text": [
      "\u001b[1m1/1\u001b[0m \u001b[32m━━━━━━━━━━━━━━━━━━━━\u001b[0m\u001b[37m\u001b[0m \u001b[1m0s\u001b[0m 88ms/step\n",
      "Predicted Digit: 7\n"
     ]
    }
   ],
   "source": [
    "import cv2\n",
    "import numpy as np\n",
    "from tensorflow import keras\n",
    "\n",
    "# Load your trained model (skip this if continuing from same session)\n",
    "# model = keras.models.load_model('your_model.h5')\n",
    "\n",
    "# Load and preprocess input image\n",
    "image_path = input(\"Enter path to the digit image (e.g., 'digit.png'): \")\n",
    "img = cv2.imread(image_path, cv2.IMREAD_GRAYSCALE)\n",
    "\n",
    "# Resize to 28x28 and invert if needed (MNIST digits are white on black)\n",
    "img_resized = cv2.resize(img, (28, 28))\n",
    "img_resized = 255 - img_resized  # invert colors if background is white\n",
    "\n",
    "# Normalize and flatten\n",
    "img_normalized = img_resized / 255.0\n",
    "img_flattened = img_normalized.reshape(1, 784)\n",
    "\n",
    "# Predict\n",
    "prediction = model.predict(img_flattened)\n",
    "predicted_label = np.argmax(prediction)\n",
    "\n",
    "print(f\"Predicted Digit: {predicted_label}\")\n"
   ]
  },
  {
   "cell_type": "code",
   "execution_count": 27,
   "id": "ff4198a6-fdcf-43f5-a1a7-205b67d9e137",
   "metadata": {},
   "outputs": [
    {
     "name": "stderr",
     "output_type": "stream",
     "text": [
      "WARNING:absl:You are saving your model as an HDF5 file via `model.save()` or `keras.saving.save_model(model)`. This file format is considered legacy. We recommend using instead the native Keras format, e.g. `model.save('my_model.keras')` or `keras.saving.save_model(model, 'my_model.keras')`. \n"
     ]
    }
   ],
   "source": [
    "model.save(\"mnist_model.h5\")"
   ]
  },
  {
   "cell_type": "code",
   "execution_count": null,
   "id": "3e5bc38c-ca96-448a-9864-15c63d236482",
   "metadata": {},
   "outputs": [],
   "source": [
    "#run app.py from vs code or any terminal load a digit image and wait for result\n"
   ]
  }
 ],
 "metadata": {
  "kernelspec": {
   "display_name": "Python 3 (ipykernel)",
   "language": "python",
   "name": "python3"
  },
  "language_info": {
   "codemirror_mode": {
    "name": "ipython",
    "version": 3
   },
   "file_extension": ".py",
   "mimetype": "text/x-python",
   "name": "python",
   "nbconvert_exporter": "python",
   "pygments_lexer": "ipython3",
   "version": "3.12.3"
  }
 },
 "nbformat": 4,
 "nbformat_minor": 5
}
