{
 "cells": [
  {
   "cell_type": "code",
   "execution_count": 3,
   "id": "ceff32b3-db01-43ab-926a-6be95a226e7a",
   "metadata": {},
   "outputs": [],
   "source": [
    "from sklearn.metrics import confusion_matrix, classification_report\n",
    "import pandas as pd"
   ]
  },
  {
   "cell_type": "code",
   "execution_count": null,
   "id": "0afd056d-37b4-4dbe-8833-3fcaa7d488ea",
   "metadata": {},
   "outputs": [],
   "source": [
    "def print_confussion_matrix(confussion_matrix,class_names,figsize = (10,7), fontsize =14):\n",
    "    def_cm = pd.DataFrame(\n",
    "        confusion_matrix,index = class_names, columns = class_names,\n",
    "    )\n",
    "    fig = plt.figure(figsize = figsize)\n",
    "    try:\n",
    "        plt.figure(figsize"
   ]
  },
  {
   "cell_type": "code",
   "execution_count": 4,
   "id": "c993cbf8-331e-4f6b-8cbf-b605f3471f51",
   "metadata": {},
   "outputs": [],
   "source": [
    "truth = [\"Dog\",\"Not a dot\",\"Dog\",\"Dog\",\"Dog\",\"Not a dog\",\"Not a dog\",\"Dog\",\"Dog\",\"Not a dog\"]\n",
    "predictions = [\"Dog\",\"Dog\",\"Dog\",\"Not a dog\",\"Dog\",\"Not a dog\",\"Dog\",\"Not a dog\", \"Dog\",\"Dog\"]"
   ]
  },
  {
   "cell_type": "code",
   "execution_count": null,
   "id": "a8c2389c-a50a-42d1-961b-d862b2151a58",
   "metadata": {},
   "outputs": [],
   "source": [
    "cm = confussion_Matrix(truth,predictions)\n",
    "print_confusion_matrix"
   ]
  }
 ],
 "metadata": {
  "kernelspec": {
   "display_name": "Python 3 (ipykernel)",
   "language": "python",
   "name": "python3"
  },
  "language_info": {
   "codemirror_mode": {
    "name": "ipython",
    "version": 3
   },
   "file_extension": ".py",
   "mimetype": "text/x-python",
   "name": "python",
   "nbconvert_exporter": "python",
   "pygments_lexer": "ipython3",
   "version": "3.11.0"
  }
 },
 "nbformat": 4,
 "nbformat_minor": 5
}
